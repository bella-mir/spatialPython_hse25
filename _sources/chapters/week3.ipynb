{
 "cells": [
  {
   "cell_type": "markdown",
   "id": "7016aff0",
   "metadata": {},
   "source": [
    "# III. Введение в пространственный анализ (2)\n"
   ]
  },
  {
   "cell_type": "markdown",
   "id": "98222129",
   "metadata": {},
   "source": [
    "На этой неделе мы продолжим занкомиться с разными инструментами пространственного анализа: научимся агрегировать атрибутивную информацию, познакомимся с Диаграммой Вороного и Индексом ближайшего соседа\n",
    "\n",
    "Эти навыки помогут дополнить анализ исторической вспышки холеры в Лондоне (1854) – [второй проект](../projects/project2.ipynb) на нашем курсе.\n"
   ]
  },
  {
   "cell_type": "markdown",
   "id": "daab7458",
   "metadata": {},
   "source": [
    "0. Импортируем нужные библиотеки\n"
   ]
  },
  {
   "cell_type": "code",
   "execution_count": null,
   "id": "e81e69fa",
   "metadata": {},
   "outputs": [],
   "source": [
    "# Работа с табличными данными (DataFrame)\n",
    "import pandas as pd  \n",
    "# Пространственные данные на базе pandas (GeoDataFrame)        \n",
    "import geopandas as gpd   \n",
    "# Загрузка и анализ данных OpenStreetMap    \n",
    "import osmnx as ox     \n",
    "# Построение графиков и карт       \n",
    "import matplotlib.pyplot as plt  \n",
    "# Настройка стилей и колормэппингов для графиков\n",
    "import matplotlib as mpl   \n",
    "# Генерация Вороного-диаграмм по множеству точек\n",
    "from shapely.ops import voronoi_diagram  \n",
    "# Создание и работа с геометрическими фигурами\n",
    "from shapely.geometry import MultiPoint  \n",
    "# Работа с числовыми массивами и векторными операциями\n",
    "import numpy as np  \n",
    "# Вычисление попарных расстояний между точками (матрица расстояний)\n",
    "from scipy.spatial.distance import cdist\n"
   ]
  },
  {
   "cell_type": "markdown",
   "id": "59420289",
   "metadata": {},
   "source": [
    "## 1. Агрегирование атрибутивной информации\n"
   ]
  },
  {
   "cell_type": "markdown",
   "id": "54713bcd",
   "metadata": {},
   "source": [
    "На прошлой неделе мы научились агрегировать точечный слой по полигонам — подсчитывать число точек. Сегодня разберёмся, как агрегировать атрибуты объектов\n"
   ]
  },
  {
   "cell_type": "markdown",
   "id": "51b6e2a6",
   "metadata": {},
   "source": [
    "Прочитаем данные об МКД в Санкт-Петербурге и о границах районов\n"
   ]
  },
  {
   "cell_type": "code",
   "execution_count": null,
   "id": "f38d5ebf",
   "metadata": {},
   "outputs": [],
   "source": [
    "#Данные с округами в Санкт-Петербурге в формате geopackage\n",
    "admin_okrug = gpd.read_file('data/spb_admin.gpkg', layer=\"okrug\")\n",
    "\n",
    "#МКД Санкт-Петербурга в формате csv\n",
    "mkd = pd.read_csv('data/spb_mkd.csv')\n",
    "#Разбиваем поле с координатами на два - 'lat' -- широта; 'lon' -- долгота\n",
    "mkd[['lat', 'lon']] = mkd['coordinates'].str.split(',', expand=True).astype(float)\n",
    "#На основе DataFrame создаем GeoDataFrame, определяя геометрию на основе координат\n",
    "mkd_gdf = gpd.GeoDataFrame(mkd, geometry=gpd.points_from_xy(mkd['lon'], mkd['lat']), crs=4326)"
   ]
  },
  {
   "cell_type": "markdown",
   "id": "44ec1e54",
   "metadata": {},
   "source": [
    "Давайте посмотрим, какая атрибутивная информация есть в слое с МКД\n"
   ]
  },
  {
   "cell_type": "code",
   "execution_count": null,
   "id": "ff47adad",
   "metadata": {},
   "outputs": [],
   "source": [
    "# такая запись помогает нам не просто показать первые строки, но и транспонировать таблицу, чтобы увидеть сразу все столбцы\n",
    "mkd_gdf.head().T"
   ]
  },
  {
   "cell_type": "markdown",
   "id": "586fb676",
   "metadata": {},
   "source": [
    "У нас, к сожалению, нет документации с описанием названий полей, но мы +- можем догадываться, какая именно информация содержится в полях.\n",
    "\n",
    "Из интересной информации, которую бы мы хотели посмотреть по каждому из округов можно выбрать:\n",
    "data_buildingdate - год постройки;\n",
    "\n",
    "**Давайте для каждого района посчитаем средний, медианный, самый ранний и самый поздний год постройки МКД**\n"
   ]
  },
  {
   "cell_type": "markdown",
   "id": "d3d4d92a",
   "metadata": {},
   "source": [
    "Первые шаги будут аналогичны тем, которые мы выполняли на прошлой неделе при подсчете кол-ва точек по ячейкам регулярной сетки\n"
   ]
  },
  {
   "cell_type": "markdown",
   "id": "a21f7a31",
   "metadata": {},
   "source": [
    "##### Шаг1: Выполняем пространственное объединение (Spatial Join)\n",
    "\n",
    "Пересекаем точки с кафе и полигоны регулярной сетки (не забываем, что слои должны быть в одной системе координат)\n"
   ]
  },
  {
   "cell_type": "code",
   "execution_count": null,
   "id": "dc50860f",
   "metadata": {},
   "outputs": [],
   "source": [
    "# sjoin: определяем, в какой округ попадает каждый из МКД\n",
    "mkd_in_okrug = gpd.sjoin(mkd_gdf, admin_okrug, predicate=\"within\", how=\"left\")\n",
    "\n",
    "mkd_in_okrug.head()"
   ]
  },
  {
   "cell_type": "markdown",
   "id": "59a6a66c",
   "metadata": {},
   "source": [
    "В атрибутивной таблице выше - все поля, которые идут после \"geometry\" -- атрибутивная информация из слоя с округами, в зависимости от того, в какой округ попадает та или иная точка\n"
   ]
  },
  {
   "cell_type": "markdown",
   "id": "07dd8e6b",
   "metadata": {},
   "source": [
    "##### Шаг2: Рассчитываем статистику\n"
   ]
  },
  {
   "cell_type": "markdown",
   "id": "bc0869e9",
   "metadata": {},
   "source": [
    "Группируем данные на основе их попадания в тот или иной округ (например, по полю index_right) и рассчитываем значения\n",
    "\n",
    "**Важно**: поскольку мы хотим рассчитывать количественную статистику, необходимо проверить типы данных полей\n",
    "(data_buildingdate, data_residents) и убедиться, что они имеют числовой тип или преобразовать их в числовой\n"
   ]
  },
  {
   "cell_type": "code",
   "execution_count": null,
   "id": "7fed0f93",
   "metadata": {},
   "outputs": [],
   "source": [
    "# 1. Посмотреть исходные типы\n",
    "print(\"До преобразования:\")\n",
    "print(mkd_in_okrug[['data_buildingdate']].dtypes)\n",
    "\n",
    "# 2. Преобразование\n",
    "\n",
    "mkd_in_okrug['data_buildingdate'] = pd.to_numeric(mkd_in_okrug['data_buildingdate'], errors='coerce')\n",
    "\n",
    "# 3. Проверка — типы после\n",
    "print(\"\\nПосле преобразования:\")\n",
    "print(mkd_in_okrug['data_buildingdate'].dtypes)\n"
   ]
  },
  {
   "cell_type": "markdown",
   "id": "3407ad47",
   "metadata": {},
   "source": [
    "Отлично! Теперь мы точно можем рассчитывать количественную статистику на основе этого поля\n"
   ]
  },
  {
   "cell_type": "markdown",
   "id": "3dd363a0",
   "metadata": {},
   "source": [
    "Рассчитаем средний год постройки МКД в разных округах\n"
   ]
  },
  {
   "cell_type": "code",
   "execution_count": null,
   "id": "848a3a63",
   "metadata": {},
   "outputs": [],
   "source": [
    "build_year_mean = mkd_in_okrug.groupby('index_right')['data_buildingdate'].mean()\n",
    "\n",
    "# Добавляем в данные поля с средним годом постройки в слой с округами\n",
    "admin_okrug['build_year_mean'] = build_year_mean\n",
    "\n",
    "# Смотрим на результат\n",
    "admin_okrug.explore(column='build_year_mean', cmap='YlGnBu', tiles='CartoDB positron')\n",
    "\n"
   ]
  },
  {
   "cell_type": "markdown",
   "id": "156e5ac0",
   "metadata": {},
   "source": [
    "Выглядит очень интересно и правдоподобно :)\n"
   ]
  },
  {
   "cell_type": "markdown",
   "id": "a29306b0",
   "metadata": {},
   "source": [
    "По аналогии посчитаем медианный год постройки, а также самый ранний и самый поздний\n"
   ]
  },
  {
   "cell_type": "code",
   "execution_count": null,
   "id": "62be7644",
   "metadata": {},
   "outputs": [],
   "source": [
    "build_year_median = mkd_in_okrug.groupby('index_right')['data_buildingdate'].median()\n",
    "build_year_min = mkd_in_okrug.groupby('index_right')['data_buildingdate'].min()\n",
    "build_year_max = mkd_in_okrug.groupby('index_right')['data_buildingdate'].max()\n",
    "\n",
    "# Добавляем в данные соответсвующие поля\n",
    "admin_okrug['build_year_median'] = build_year_median\n",
    "admin_okrug['build_year_min'] = build_year_min\n",
    "admin_okrug['build_year_max'] = build_year_max\n",
    "\n"
   ]
  },
  {
   "cell_type": "markdown",
   "id": "c01c384b",
   "metadata": {},
   "source": [
    "Отобразим 4 показателя вместе для сравнения\n"
   ]
  },
  {
   "cell_type": "code",
   "execution_count": null,
   "id": "ab72399a",
   "metadata": {},
   "outputs": [],
   "source": [
    "metrics = [\n",
    "    ('build_year_mean', 'Средний год постройки'),\n",
    "    ('build_year_median', 'Медианный год постройки'),\n",
    "    ('build_year_min', 'Самый ранний год постройки'),\n",
    "    ('build_year_max', 'Самый поздний год постройки'),\n",
    "]\n",
    "\n",
    "# Общий диапазон для всех карт\n",
    "vmin = admin_okrug[[m for m, _ in metrics]].min().min()\n",
    "vmax = admin_okrug[[m for m, _ in metrics]].max().max()\n",
    "\n",
    "# Создаём одну фигуру с 1 строкой и 4 столбцами\n",
    "fig, axes = plt.subplots(1, 4, figsize=(20, 5), constrained_layout=True)\n",
    "\n",
    "# Создаём общий нормализатор и мэппер для цветовой шкалы\n",
    "norm = mpl.colors.Normalize(vmin=vmin, vmax=vmax)\n",
    "cmap = mpl.cm.viridis  # или любая другая\n",
    "\n",
    "for ax, (metric, title) in zip(axes, metrics):\n",
    "    admin_okrug.plot(\n",
    "        column=metric,\n",
    "        ax=ax,\n",
    "        cmap=cmap,\n",
    "        norm=norm,\n",
    "        linewidth=0.5,\n",
    "        edgecolor='gray'\n",
    "    )\n",
    "    ax.set_title(title, fontsize=12)\n",
    "    ax.axis('off')\n",
    "\n",
    "# Общая colorbar\n",
    "sm = mpl.cm.ScalarMappable(cmap=cmap, norm=norm)\n",
    "sm._A = []  # пустой массив, чтобы colorbar работал\n",
    "cbar = fig.colorbar(sm, ax=axes.tolist(), orientation='horizontal',\n",
    "                    fraction=0.05, pad=0.02)\n",
    "cbar.set_label('Год постройки', fontsize=12)\n",
    "\n",
    "plt.show()"
   ]
  },
  {
   "cell_type": "markdown",
   "id": "2ec35f66",
   "metadata": {},
   "source": [
    "Красота!\n"
   ]
  },
  {
   "cell_type": "markdown",
   "id": "28f281eb",
   "metadata": {},
   "source": [
    "## 2. Построение диаграммы Вороного\n"
   ]
  },
  {
   "cell_type": "markdown",
   "id": "480733cf",
   "metadata": {},
   "source": [
    "Диаграмма Вороного (или разбиение Вороного) — это разбиение пространства на ячейки по следующему правилу: каждой точке-генератору (site) сопоставляется такая область, что любая точка внутри этой области ближе к нему, чем к любой другой.\n"
   ]
  },
  {
   "cell_type": "markdown",
   "id": "6b56a059",
   "metadata": {},
   "source": [
    "Загрузим данные станций метро и разобьём территорию Петербурга на области Вороного: каждая область соответствует ближайшей станции\n"
   ]
  },
  {
   "cell_type": "code",
   "execution_count": null,
   "id": "54addcb3",
   "metadata": {},
   "outputs": [],
   "source": [
    "#Прочитаем данные о станциях метро\n",
    "metro = gpd.read_file('data/spb_metro.geojson')\n",
    "\n",
    "#Создадим полигон с границами города на основе admin_okrug c помощью инструмента dissolve\n",
    "admin_border = admin_okrug.dissolve()\n",
    "\n",
    "\n",
    "# Построим карту с двумя слоями\n",
    "fig, ax = plt.subplots(figsize=(8, 8))\n",
    "# Сначала — граница города\n",
    "admin_border.plot(ax=ax, color='none', edgecolor='black', linewidth=1)\n",
    "# Затем — станции метро\n",
    "metro.plot(ax=ax, color='red', markersize=10, label='Станции метро')\n",
    "# Оформление\n",
    "ax.set_title('Граница СПб и станции метро', fontsize=14)\n",
    "ax.axis('off')\n",
    "ax.legend()\n",
    "\n",
    "plt.tight_layout()\n",
    "plt.show()\n"
   ]
  },
  {
   "cell_type": "markdown",
   "id": "10471237",
   "metadata": {},
   "source": [
    "Строим диаграмму Вороного\n"
   ]
  },
  {
   "cell_type": "code",
   "execution_count": null,
   "id": "540a8a3b",
   "metadata": {},
   "outputs": [],
   "source": [
    "# 1. Собираем все точки-генераторы в один объект MultiPoint\n",
    "#    Здесь каждая станция метро — это точка (Point).\n",
    "#    .geometry.tolist() возвращает список shapely-геометрий.\n",
    "points_mp = MultiPoint(metro.geometry.tolist())\n",
    "\n",
    "# 2. Генерируем диаграмму Вороного по точечному набору станций метро,\n",
    "#    ограничивая все ячейки рамкой города (envelope) — чтобы полигоны\n",
    "#    не выходили за пределы Санкт-Петербурга.\n",
    "vor = voronoi_diagram(points_mp, envelope=admin_border.geometry.iloc[0])\n",
    "\n",
    "# 3. Создаём GeoDataFrame из полигонов Вороного:\n",
    "#    конвертируем коллекцию геометрий в список и передаём его в GeoDataFrame,\n",
    "#    сохраняя исходную систему координат (CRS) станций метро.\n",
    "cells = list(vor.geoms)\n",
    "vor_gdf = gpd.GeoDataFrame(geometry=cells, crs=metro.crs)\n",
    "\n",
    "# 4. Визуализация результата\n",
    "fig, ax = plt.subplots(figsize=(8, 8))\n",
    "\n",
    "# 4.1. Рисуем полигоны диаграммы Вороного\n",
    "#      cmap='gist_ncar' — качественная палитра с множеством цветов.\n",
    "#      edgecolor='white' и alpha=0.6 делают границы полигонов чёткими,\n",
    "#      но сохраняют прозрачность для наглядности.\n",
    "vor_gdf.plot(\n",
    "    ax=ax,\n",
    "    cmap='gist_ncar',\n",
    "    edgecolor='white',\n",
    "    alpha=0.6\n",
    ")\n",
    "\n",
    "# 4.2. Наносим станции метро поверх полигонов\n",
    "#      color='red' и markersize задают красные точки нужного размера.\n",
    "metro.plot(\n",
    "    ax=ax,\n",
    "    color='red',\n",
    "    markersize=8,\n",
    "    label='Станции метро'\n",
    ")\n",
    "\n",
    "# 4.3. Рисуем контур границы города\n",
    "#      boundary.plot рисует только линию границы без заливки.\n",
    "admin_border.boundary.plot(\n",
    "    ax=ax,\n",
    "    color='black',\n",
    "    linewidth=1,\n",
    "    label='Граница СПб'\n",
    ")\n",
    "\n",
    "# 5. Настройка оформления\n",
    "ax.set_title(\n",
    "    \"Диаграмма Вороного по станциям метро СПб (Shapely)\",\n",
    "    fontsize=14\n",
    ")\n",
    "ax.axis('off')   # отключаем оси, они не нужны на карте\n",
    "ax.legend()      # выводим легенду по точкам и границе\n",
    "\n",
    "plt.tight_layout()\n",
    "plt.show()\n"
   ]
  },
  {
   "cell_type": "markdown",
   "id": "e5a9a50c",
   "metadata": {},
   "source": [
    "Обрежем диаграмму Вороного по границам города\n"
   ]
  },
  {
   "cell_type": "code",
   "execution_count": null,
   "id": "826a531a",
   "metadata": {},
   "outputs": [],
   "source": [
    "# 1.Выполняем обрезку (clip) полигонов Вороного по границе Санкт-Петербурга\n",
    "clipped_vor = gpd.clip(vor_gdf, admin_border.geometry.unary_union)\n",
    "\n",
    "# 2. Визуализируем результат\n",
    "fig, ax = plt.subplots(figsize=(8, 8))\n",
    "\n",
    "# 2.1. Рисуем обрезанные полигоны Вороного\n",
    "clipped_vor.plot(\n",
    "    ax=ax,\n",
    "    cmap='gist_ncar',\n",
    "    edgecolor='white',\n",
    "    alpha=0.6\n",
    ")\n",
    "\n",
    "# 2.2. Наносим станции метро поверх полигонов\n",
    "metro.plot(\n",
    "    ax=ax,\n",
    "    color='red',\n",
    "    markersize=8,\n",
    "    label='Станции метро'\n",
    ")\n",
    "\n",
    "# 2.3. Рисуем контур границы города\n",
    "admin_border.boundary.plot(\n",
    "    ax=ax,\n",
    "    color='black',\n",
    "    linewidth=1,\n",
    "    label='Граница СПб'\n",
    ")\n",
    "\n",
    "# 3. Оформление\n",
    "ax.set_title(\"Диаграмма Вороного по станциям метро СПб 2.0\", fontsize=14)\n",
    "ax.axis('off')\n",
    "ax.legend()\n",
    "\n",
    "plt.tight_layout()\n",
    "plt.show()"
   ]
  },
  {
   "cell_type": "markdown",
   "id": "3d080f03",
   "metadata": {},
   "source": [
    "Мы построили классическую диаграмму Вороного по станциям метро — пространство города разбилось на ячейки, каждая из которых показывает зону ближайшей станции. Это наглядно демонстрирует «зоны влияния» метро и помогает быстро оценить доступность станций для разных кварталов. Однако следует помнить, что вычисления основаны на прямом (евклидовом) расстоянии, без учёта реальной уличной сети, барьеров и особенностей рельефа. Поэтому, несмотря на полезную наглядность, для точного анализа доступности стоит использовать инструменты сетевого анализа (с некоторыми из них мы познакомимся в следующие недели)\n"
   ]
  },
  {
   "cell_type": "markdown",
   "id": "d12d37a2",
   "metadata": {},
   "source": [
    "## 3. Nearest Neighbour Index\n"
   ]
  },
  {
   "cell_type": "markdown",
   "id": "0d1eb148",
   "metadata": {},
   "source": [
    "NNI (Nearest Neighbor Index, индекс ближайшего соседа) — это статистическая мера, которая позволяет оценить, насколько равномерно распределены объекты в пространстве. Давайте посмотрим, на распределение театров в Санкт-Петербурге\n"
   ]
  },
  {
   "cell_type": "markdown",
   "id": "323d0447",
   "metadata": {},
   "source": [
    "Прочитаем данные о театрах и подготовим их для последующего анализа\n"
   ]
  },
  {
   "cell_type": "code",
   "execution_count": null,
   "id": "080ce9b7",
   "metadata": {},
   "outputs": [],
   "source": [
    "theaters = gpd.read_file('data/spb_theaters.geojson')\n",
    "theaters = theaters.dropna(subset=['geometry'])  # убираем точки без геометрии\n",
    "\n",
    "# Перепрецируем в подходящую UTM-зону\n",
    "utm_crs = theaters.estimate_utm_crs()\n",
    "theaters_utm = theaters.to_crs(utm_crs)\n",
    "\n",
    "# Преобразуем геометрические данные в координаты\n",
    "theaters_coords = np.array([point.coords[0] for point in theaters_utm.geometry])"
   ]
  },
  {
   "cell_type": "markdown",
   "id": "0a68d716",
   "metadata": {},
   "source": [
    "Производим необходимые вычисления\n"
   ]
  },
  {
   "cell_type": "code",
   "execution_count": null,
   "id": "0702d495",
   "metadata": {},
   "outputs": [],
   "source": [
    "# 1. Построим матрицу евклидовых расстояний и сразу «забаним» диагональ\n",
    "dist_matrix = cdist(theaters_coords, theaters_coords, metric='euclidean')\n",
    "np.fill_diagonal(dist_matrix, np.inf)\n",
    "nearest_neighbor_distances = dist_matrix.min(axis=1)\n",
    "\n",
    "# 2. Среднее расстояние до ближайшего соседа\n",
    "average_nearest_neighbor_distance = nearest_neighbor_distances.mean()\n",
    "\n",
    "# 3. Площадь Санкт-Петербурга в той же метрической CRS\n",
    "admin_border_utm = admin_border.to_crs(utm_crs)\n",
    "admin_area = admin_border_utm.geometry.area.iloc[0]\n",
    "\n",
    "# 4. Ожидаемое среднее при случайном распределении\n",
    "n = len(theaters_coords)\n",
    "expected_mean_distance = 0.5 * np.sqrt(admin_area / n)\n",
    "\n",
    "# 5. Рассчитываем NNI\n",
    "NNI = average_nearest_neighbor_distance / expected_mean_distance\n",
    "print(\"NNI:\", NNI)\n"
   ]
  },
  {
   "cell_type": "markdown",
   "id": "3cedafc9",
   "metadata": {},
   "source": [
    "Полученное значение **NNI ≈ 0.43** существенно меньше единицы. Это говорит о том, что распределение театров в Петербурге **кластери­зовано**, а не случайно или равномерно.\n"
   ]
  },
  {
   "cell_type": "markdown",
   "id": "188126ec",
   "metadata": {},
   "source": [
    "## 4.Итог\n"
   ]
  },
  {
   "cell_type": "markdown",
   "id": "7f513f8b",
   "metadata": {},
   "source": [
    "1. Мы научились агрегировать пространственные и атрибутивные данные: считали средний, минимальный и максимальный годы постройки МКД по округам Санкт-Петербурга\n",
    "\n",
    "2. Познакомились с Диаграммой Вороного и построили «зоны влияния» станций метро: каждая точка города отнесена к ближайшей станции по евклидову расстоянию.\n",
    "\n",
    "3. Узнали об оценке кластеризации точечных объектов с помощью Nearest Neighbour Index.\n",
    "\n",
    "При этом всегда важно помнить ограничения методов: диаграмма Вороного и NNI опираются на прямое (евклидово) расстояние и не учитывают реальную уличную сеть и препятствия. Для более точных пространственных моделей стоит применять сетевой анализ (с которым мы познакомимся на следующих занятиях).\n",
    "\n",
    "На основе материалов этого и [прошлого](./week2.ipynb) занятия вы сможете полностью выполнить [второй проект](../projects/project2.ipynb)\n"
   ]
  }
 ],
 "metadata": {
  "kernelspec": {
   "display_name": "myenv",
   "language": "python",
   "name": "python3"
  },
  "language_info": {
   "codemirror_mode": {
    "name": "ipython",
    "version": 3
   },
   "file_extension": ".py",
   "mimetype": "text/x-python",
   "name": "python",
   "nbconvert_exporter": "python",
   "pygments_lexer": "ipython3",
   "version": "3.12.3"
  }
 },
 "nbformat": 4,
 "nbformat_minor": 5
}
