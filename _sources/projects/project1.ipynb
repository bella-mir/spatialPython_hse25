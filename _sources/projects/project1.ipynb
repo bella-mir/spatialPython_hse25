{
 "cells": [
  {
   "cell_type": "markdown",
   "id": "87026878",
   "metadata": {},
   "source": [
    "# Проект I\n",
    "\n",
    "## Анализ застройки и землепользования\n",
    "\n",
    "#### **Цель:**\n",
    "\n",
    "1. Визуализировать данные о застройке и землепользовании для выбранного района города\n",
    "2. Рассчитать долю застроенной территории\n",
    "3. Отобразить структуру землепользования\n",
    "\n",
    "#### **Шаги:**\n",
    "\n",
    "1. **Выберите район** (например: \"Хамовники, Москва\")\n",
    "   Для Москвы и Санкт-Петербурга не будет проблем с выгрузкой границ района, так как они являются единицами административного деления. Для других городов – нужно проверять\n",
    "2. **Загрузите данные**:\n",
    "   - Здания (`osmnx.features_from_place` с тегом `building`).\n",
    "   - Землепользование (`osmnx.features_from_place` с тегом `landuse`).\n",
    "3. **Рассчитайте долю застроенной территории**:\n",
    "   - (Площадь всех зданий / площадь района) × 100%.\n",
    "4. **Постройте график**:\n",
    "   - Круговую диаграмму структуры землепользования\n",
    "\n",
    "#### **Требования к итоговому результату:**\n",
    "\n",
    "- Две картосхемы: застройки (1) и типов землепользования (2)\n",
    "- Значение доли застройки в %\n",
    "- График с категориями землепользования\n",
    "- Сохраненный результат в виде иллюстрации в любом графическом формате (jpg, png или др.)\n",
    "\n",
    "##### **Формат сдачи задания:**\n",
    "\n",
    "- Документ в формате .ipynb\n",
    "- Итоговая визуализация в виде одного или нескольких изображений (jpg, png или др.)\n",
    "\n",
    "##### **Критерии оценивания (max. 10 баллов)**\n",
    "\n",
    "**1. Корректность данных (2 балла)**\n",
    "\n",
    "- **1 балл** – Получены данные о зданиях (`building`) без ошибок.\n",
    "- **1 балл** – Получены данные о землепользовании (`landuse`) без ошибок.\n",
    "\n",
    "**2. Расчеты и анализ (2 балла)**\n",
    "\n",
    "- **1 балл** – Правильно вычислена доля застроенной территории (%).\n",
    "- **1 балл** – Построена круговая диаграмма структуры землепользования.\n",
    "\n",
    "**3. Визуализация (2 балла)**\n",
    "\n",
    "- **1 балл** – Создана картосхема застройки (здания).\n",
    "- **1 балл** – Создана картосхема типов землепользования.\n",
    "\n",
    "**4. Оформление итогового результата (4 балла)**\n",
    "\n",
    "- **1 балл** – Сданный код структурирован и читаем\n",
    "- **до 3 баллов** – Отличная итоговая визуализация (читаема, есть все основные элементы на картосехемах, отображены итоговые расчеты)\n"
   ]
  },
  {
   "cell_type": "markdown",
   "id": "6b1b34a1",
   "metadata": {},
   "source": [
    "## Шаг 1: Импортируем библиотеки\n"
   ]
  },
  {
   "cell_type": "code",
   "execution_count": null,
   "id": "f4c4c7f2",
   "metadata": {},
   "outputs": [],
   "source": [
    "import osmnx as ox\n",
    "import geopandas as gpd\n",
    "import matplotlib.pyplot as plt"
   ]
  },
  {
   "cell_type": "markdown",
   "id": "6b1f5ead",
   "metadata": {},
   "source": [
    "## Шаг 2: Выгружаем данные о застройке и землепользовании из OSM\n"
   ]
  },
  {
   "cell_type": "code",
   "execution_count": null,
   "id": "0064f91d",
   "metadata": {},
   "outputs": [],
   "source": [
    "# Определяем имя для поиска\n",
    "place_name = ... # тут имя рассматриваемого района в кавычках\n",
    "\n",
    "# Загружаем границу района\n",
    "district = ...\n",
    "\n",
    "buildings = ...\n",
    "landuse = ..."
   ]
  },
  {
   "cell_type": "markdown",
   "id": "38537174",
   "metadata": {},
   "source": [
    "## Шаг 3: Перепроецируем данные в нужнную UTM-зону\n"
   ]
  },
  {
   "cell_type": "code",
   "execution_count": null,
   "id": "ea36032c",
   "metadata": {},
   "outputs": [],
   "source": [
    "# Определяем UTM-зону\n",
    "data_crs = ...\n",
    "\n",
    "# Перепроецируем данные \n",
    "district_utm = ... \n",
    "buildings_utm = ...\n",
    "landuse_utm = ..."
   ]
  },
  {
   "cell_type": "markdown",
   "id": "a521fc21",
   "metadata": {},
   "source": [
    "## Шаг 4: Вычисляем площадь района\n"
   ]
  },
  {
   "cell_type": "code",
   "execution_count": null,
   "id": "536ed529",
   "metadata": {},
   "outputs": [],
   "source": [
    "area_district = ...\n",
    "\n",
    "\n",
    "#Смотрим на результат\n",
    "print(f\"Площадь района: {area_district[0]} м²\")"
   ]
  },
  {
   "cell_type": "markdown",
   "id": "54afd00a",
   "metadata": {},
   "source": [
    "## Шаг 5: Вычисляем площадь зданий\n"
   ]
  },
  {
   "cell_type": "code",
   "execution_count": null,
   "id": "57325f90",
   "metadata": {},
   "outputs": [],
   "source": [
    "buildings_utm['area'] = ...\n",
    "buildings_area = buildings_utm['area'].sum()\n",
    "\n",
    "#Смотрим на результат\n",
    "print(f\"Площадь застроенной территории: {buildings_area} м²\")"
   ]
  },
  {
   "cell_type": "markdown",
   "id": "a49cc581",
   "metadata": {},
   "source": [
    "## Шаг 6: Вычисляем долю застроенной территории\n"
   ]
  },
  {
   "cell_type": "code",
   "execution_count": null,
   "id": "7bbfd69f",
   "metadata": {},
   "outputs": [],
   "source": [
    "built_share = ...\n",
    "\n",
    "#Смотрим на результат\n",
    "print(f\"Площадь застроенной территории: {built_share[0]:.2f} %\")"
   ]
  },
  {
   "cell_type": "markdown",
   "id": "663f45d7",
   "metadata": {},
   "source": [
    "## Шаг 7: Вычисляем площадь по разным типам землепользования\n"
   ]
  },
  {
   "cell_type": "code",
   "execution_count": null,
   "id": "e5f8b5b1",
   "metadata": {},
   "outputs": [],
   "source": [
    "\n",
    "landuse_utm['area'] = ...\n",
    "summary = landuse_utm.groupby('landuse')['area'].sum()\n",
    "\n"
   ]
  },
  {
   "cell_type": "markdown",
   "id": "577f2313",
   "metadata": {},
   "source": [
    "## Шаг 8: Визуализируем карты и график\n"
   ]
  },
  {
   "cell_type": "code",
   "execution_count": null,
   "id": "9424d467",
   "metadata": {},
   "outputs": [],
   "source": [
    "import matplotlib.pyplot as plt\n",
    "\n",
    "# отсортируем Series по убыванию\n",
    "summary_sorted = summary.sort_values(ascending=False)\n",
    "\n",
    "fig, ax = plt.subplots(figsize=(6, 6))\n",
    "summary_sorted.plot.pie(\n",
    "    ax=ax,\n",
    "    autopct='%1.1f%%',  # подписи с одной десятичной\n",
    "    startangle=90       # стартовый угол\n",
    ")\n",
    "ax.set_ylabel('')       # убираем подпись оси Y\n",
    "ax.set_title('Структура землепользования (от большего к меньшему)')\n",
    "\n",
    "plt.tight_layout()\n",
    "plt.show()\n",
    "\n"
   ]
  },
  {
   "cell_type": "markdown",
   "id": "1cf8dc83",
   "metadata": {},
   "source": [
    "## Шаг 9: Визуализируем карту застройки\n"
   ]
  },
  {
   "cell_type": "code",
   "execution_count": null,
   "id": "e26809ac",
   "metadata": {},
   "outputs": [],
   "source": [
    "from matplotlib_scalebar.scalebar import ScaleBar \n",
    "\n",
    "# Создаём карту\n",
    "fig, ax = plt.subplots(figsize=(10, 10))\n",
    "\n",
    "# Землепользование — заливка\n",
    "landuse_utm.plot(\n",
    "    ax=ax, \n",
    "    column='landuse', \n",
    "    legend=True, \n",
    "    alpha=0.5, \n",
    "    cmap='Set3',  # мягкая цветовая палитра\n",
    "    edgecolor='none'\n",
    ")\n",
    "\n",
    "# Здания — серые контуры\n",
    "buildings_utm.plot(ax=ax, color='grey', linewidth=0.3, edgecolor='black', alpha=0.7)\n",
    "\n",
    "# Границы района — чёрные\n",
    "district_utm.boundary.plot(ax=ax, color='black', linewidth=1)\n",
    "\n",
    "# Добавляем масштабную линейку (в метрах)\n",
    "scalebar = ScaleBar(dx=1, units=\"m\", location='lower left')\n",
    "ax.add_artist(scalebar)\n",
    "\n",
    "#Добавляем заголовок к легенде\n",
    "legend = ax.get_legend()\n",
    "if legend:\n",
    "    legend.set_title(\"Типы землепользования:\")\n",
    "\n",
    "# Заголовок и оформление\n",
    "ax.set_title(place_name, fontsize=16, pad=20)\n",
    "ax.axis('off')\n",
    "plt.tight_layout()\n",
    "plt.show()"
   ]
  },
  {
   "cell_type": "markdown",
   "id": "5528f710",
   "metadata": {},
   "source": [
    "Найдите решение следующих задач:\n",
    "\n",
    "- Как можно **одновременно** отобразить **карту** и **график** на одном изображении?\n",
    "- Как **добавть значение доли застроенной территории** прямо на карту?\n",
    "- Как **синхронизировать цвета** типов землепользования на карте и на круговой диаграмме?\n",
    "- Как сделать **всю** информацию на круговой диаграмме читаемой\n"
   ]
  }
 ],
 "metadata": {
  "kernelspec": {
   "display_name": "myenv",
   "language": "python",
   "name": "python3"
  },
  "language_info": {
   "codemirror_mode": {
    "name": "ipython",
    "version": 3
   },
   "file_extension": ".py",
   "mimetype": "text/x-python",
   "name": "python",
   "nbconvert_exporter": "python",
   "pygments_lexer": "ipython3",
   "version": "3.12.3"
  }
 },
 "nbformat": 4,
 "nbformat_minor": 5
}
